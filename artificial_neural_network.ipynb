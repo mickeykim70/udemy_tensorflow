{
  "nbformat": 4,
  "nbformat_minor": 0,
  "metadata": {
    "colab": {
      "provenance": [],
      "mount_file_id": "https://github.com/mickeykim70/udemy_tensorflow/blob/main/artificial_neural_network.ipynb",
      "authorship_tag": "ABX9TyMShLFa4HfOLv4ivmNt8VkZ",
      "include_colab_link": true
    },
    "kernelspec": {
      "name": "python3",
      "display_name": "Python 3"
    },
    "language_info": {
      "name": "python"
    }
  },
  "cells": [
    {
      "cell_type": "markdown",
      "metadata": {
        "id": "view-in-github",
        "colab_type": "text"
      },
      "source": [
        "<a href=\"https://colab.research.google.com/github/mickeykim70/udemy_tensorflow/blob/main/artificial_neural_network.ipynb\" target=\"_parent\"><img src=\"https://colab.research.google.com/assets/colab-badge.svg\" alt=\"Open In Colab\"/></a>"
      ]
    },
    {
      "cell_type": "code",
      "execution_count": 1,
      "metadata": {
        "id": "XDQKWGkyl-aR"
      },
      "outputs": [],
      "source": [
        "import os\n",
        "import sys\n",
        "from pathlib import Path\n",
        "import numpy as np\n",
        "import matplotlib.pyplot as plt\n",
        "from skimage.io import imread\n",
        "\n",
        "# 프로젝트 기본 경로 설정\n",
        "BASE_DIR = Path(\"/content/drive/MyDrive/Deep Learning A-Z\")\n",
        "sys.path.append(str(BASE_DIR))\n",
        "\n",
        "# 데이터셋 경로 설정\n",
        "DATASET_DIR = BASE_DIR / \"Part 1 - Artificial Neural Networks (ANN)\"\n",
        "\n",
        "# 필요한 경우 경로가 존재하는지 확인\n",
        "if not DATASET_DIR.exists():\n",
        "    raise FileNotFoundError(f\"Dataset directory not found at {DATASET_DIR}\")"
      ]
    },
    {
      "cell_type": "code",
      "source": [],
      "metadata": {
        "id": "MNeyjs_2nFd5"
      },
      "execution_count": null,
      "outputs": []
    }
  ]
}