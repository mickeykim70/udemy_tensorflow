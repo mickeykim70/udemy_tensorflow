{
  "nbformat": 4,
  "nbformat_minor": 0,
  "metadata": {
    "colab": {
      "provenance": [],
      "toc_visible": true,
      "mount_file_id": "https://github.com/mickeykim70/udemy_tensorflow/blob/main/artificial_neural_network.ipynb",
      "authorship_tag": "ABX9TyO4Qwnqx6qvxG9qyxzOQ7x0",
      "include_colab_link": true
    },
    "kernelspec": {
      "name": "python3",
      "display_name": "Python 3"
    },
    "language_info": {
      "name": "python"
    }
  },
  "cells": [
    {
      "cell_type": "markdown",
      "metadata": {
        "id": "view-in-github",
        "colab_type": "text"
      },
      "source": [
        "<a href=\"https://colab.research.google.com/github/mickeykim70/udemy_tensorflow/blob/main/artificial_neural_network.ipynb\" target=\"_parent\"><img src=\"https://colab.research.google.com/assets/colab-badge.svg\" alt=\"Open In Colab\"/></a>"
      ]
    },
    {
      "cell_type": "markdown",
      "source": [
        "### Colab path work\n",
        "\n"
      ],
      "metadata": {
        "id": "bxbtr4g_20sn"
      }
    },
    {
      "cell_type": "code",
      "execution_count": 19,
      "metadata": {
        "id": "XDQKWGkyl-aR"
      },
      "outputs": [],
      "source": [
        "import os\n",
        "os.chdir('/content/drive/MyDrive/Deep Learning A-Z/Part 1 - Artificial Neural Networks (ANN)')"
      ]
    },
    {
      "cell_type": "markdown",
      "source": [
        "# **Artificial Neural Network**"
      ],
      "metadata": {
        "id": "lrY8bgJh10up"
      }
    },
    {
      "cell_type": "markdown",
      "source": [
        "Importing the Libraries"
      ],
      "metadata": {
        "id": "Klsw_TNV2H-R"
      }
    },
    {
      "cell_type": "code",
      "source": [
        "import numpy as np\n",
        "import pandas as pd\n",
        "import tensorflow as tf"
      ],
      "metadata": {
        "id": "MNeyjs_2nFd5"
      },
      "execution_count": 9,
      "outputs": []
    },
    {
      "cell_type": "code",
      "source": [
        "tf.__version__"
      ],
      "metadata": {
        "id": "wmKJ6DGG2qL5",
        "outputId": "e4523337-1b15-40e2-b156-768637d5c98e",
        "colab": {
          "base_uri": "https://localhost:8080/",
          "height": 36
        }
      },
      "execution_count": 10,
      "outputs": [
        {
          "output_type": "execute_result",
          "data": {
            "text/plain": [
              "'2.17.1'"
            ],
            "application/vnd.google.colaboratory.intrinsic+json": {
              "type": "string"
            }
          },
          "metadata": {},
          "execution_count": 10
        }
      ]
    },
    {
      "cell_type": "markdown",
      "source": [
        "## Part 1 - Data Preprocessing"
      ],
      "metadata": {
        "id": "ZLDO2okz2Yum"
      }
    },
    {
      "cell_type": "markdown",
      "source": [
        "### Importing dataset"
      ],
      "metadata": {
        "id": "FwAJuKZk3Cj_"
      }
    },
    {
      "cell_type": "code",
      "source": [
        "dataset = pd.read_csv('Churn_Modelling.csv')\n",
        "x = dataset.iloc[:, 3:-1].values\n",
        "y = dataset.iloc[:, -1].values\n",
        "print(x[:5], y[:5])"
      ],
      "metadata": {
        "id": "3bao6lMw2VoU",
        "outputId": "d5687925-c0b3-4dc8-b954-df2750f83a7f",
        "colab": {
          "base_uri": "https://localhost:8080/"
        }
      },
      "execution_count": 24,
      "outputs": [
        {
          "output_type": "stream",
          "name": "stdout",
          "text": [
            "[[619 'France' 'Female' 42 2 0.0 1 1 1 101348.88]\n",
            " [608 'Spain' 'Female' 41 1 83807.86 1 0 1 112542.58]\n",
            " [502 'France' 'Female' 42 8 159660.8 3 1 0 113931.57]\n",
            " [699 'France' 'Female' 39 1 0.0 2 0 0 93826.63]\n",
            " [850 'Spain' 'Female' 43 2 125510.82 1 1 1 79084.1]] [1 0 1 0 0]\n"
          ]
        }
      ]
    },
    {
      "cell_type": "markdown",
      "source": [
        "### Encoding Categorical data"
      ],
      "metadata": {
        "id": "5CqRJA1i69dA"
      }
    },
    {
      "cell_type": "markdown",
      "source": [
        "#### Encoding the **Independent** variable"
      ],
      "metadata": {
        "id": "1gXnTJgi7Rav"
      }
    },
    {
      "cell_type": "code",
      "source": [
        "# Label Encoding for Gender column\n",
        "from sklearn.preprocessing import LabelEncoder\n",
        "le = LabelEncoder()\n",
        "x[:, 2] = le.fit_transform(x[:, 2]) # Gender"
      ],
      "metadata": {
        "id": "0q3zZCGI3YeW"
      },
      "execution_count": 28,
      "outputs": []
    },
    {
      "cell_type": "code",
      "source": [
        "x[:10]"
      ],
      "metadata": {
        "id": "Cv0K3ALK8WND",
        "outputId": "ad088bef-1b90-4316-805f-93bdb5305339",
        "colab": {
          "base_uri": "https://localhost:8080/"
        }
      },
      "execution_count": 29,
      "outputs": [
        {
          "output_type": "execute_result",
          "data": {
            "text/plain": [
              "array([[619, 'France', 0, 42, 2, 0.0, 1, 1, 1, 101348.88],\n",
              "       [608, 'Spain', 0, 41, 1, 83807.86, 1, 0, 1, 112542.58],\n",
              "       [502, 'France', 0, 42, 8, 159660.8, 3, 1, 0, 113931.57],\n",
              "       [699, 'France', 0, 39, 1, 0.0, 2, 0, 0, 93826.63],\n",
              "       [850, 'Spain', 0, 43, 2, 125510.82, 1, 1, 1, 79084.1],\n",
              "       [645, 'Spain', 1, 44, 8, 113755.78, 2, 1, 0, 149756.71],\n",
              "       [822, 'France', 1, 50, 7, 0.0, 2, 1, 1, 10062.8],\n",
              "       [376, 'Germany', 0, 29, 4, 115046.74, 4, 1, 0, 119346.88],\n",
              "       [501, 'France', 1, 44, 4, 142051.07, 2, 0, 1, 74940.5],\n",
              "       [684, 'France', 1, 27, 2, 134603.88, 1, 1, 1, 71725.73]],\n",
              "      dtype=object)"
            ]
          },
          "metadata": {},
          "execution_count": 29
        }
      ]
    },
    {
      "cell_type": "code",
      "source": [
        "# Label Encoding for Geography column\n",
        "from sklearn.compose import ColumnTransformer\n",
        "from sklearn.preprocessing import OneHotEncoder\n",
        "ct = ColumnTransformer(transformers=[('encoder', OneHotEncoder(), [0])], remainder='passthrough')\n",
        "X = np.array(ct.fit_transform(X))"
      ],
      "metadata": {
        "id": "b7O5KIkm8YAY",
        "outputId": "f7a1d702-1bcd-4fb7-c916-dc0a58ce66e7",
        "colab": {
          "base_uri": "https://localhost:8080/",
          "height": 180
        }
      },
      "execution_count": 30,
      "outputs": [
        {
          "output_type": "error",
          "ename": "NameError",
          "evalue": "name 'X' is not defined",
          "traceback": [
            "\u001b[0;31m---------------------------------------------------------------------------\u001b[0m",
            "\u001b[0;31mNameError\u001b[0m                                 Traceback (most recent call last)",
            "\u001b[0;32m<ipython-input-30-2f32a9a25274>\u001b[0m in \u001b[0;36m<cell line: 5>\u001b[0;34m()\u001b[0m\n\u001b[1;32m      3\u001b[0m \u001b[0;32mfrom\u001b[0m \u001b[0msklearn\u001b[0m\u001b[0;34m.\u001b[0m\u001b[0mpreprocessing\u001b[0m \u001b[0;32mimport\u001b[0m \u001b[0mOneHotEncoder\u001b[0m\u001b[0;34m\u001b[0m\u001b[0;34m\u001b[0m\u001b[0m\n\u001b[1;32m      4\u001b[0m \u001b[0mct\u001b[0m \u001b[0;34m=\u001b[0m \u001b[0mColumnTransformer\u001b[0m\u001b[0;34m(\u001b[0m\u001b[0mtransformers\u001b[0m\u001b[0;34m=\u001b[0m\u001b[0;34m[\u001b[0m\u001b[0;34m(\u001b[0m\u001b[0;34m'encoder'\u001b[0m\u001b[0;34m,\u001b[0m \u001b[0mOneHotEncoder\u001b[0m\u001b[0;34m(\u001b[0m\u001b[0;34m)\u001b[0m\u001b[0;34m,\u001b[0m \u001b[0;34m[\u001b[0m\u001b[0;36m0\u001b[0m\u001b[0;34m]\u001b[0m\u001b[0;34m)\u001b[0m\u001b[0;34m]\u001b[0m\u001b[0;34m,\u001b[0m \u001b[0mremainder\u001b[0m\u001b[0;34m=\u001b[0m\u001b[0;34m'passthrough'\u001b[0m\u001b[0;34m)\u001b[0m\u001b[0;34m\u001b[0m\u001b[0;34m\u001b[0m\u001b[0m\n\u001b[0;32m----> 5\u001b[0;31m \u001b[0mX\u001b[0m \u001b[0;34m=\u001b[0m \u001b[0mnp\u001b[0m\u001b[0;34m.\u001b[0m\u001b[0marray\u001b[0m\u001b[0;34m(\u001b[0m\u001b[0mct\u001b[0m\u001b[0;34m.\u001b[0m\u001b[0mfit_transform\u001b[0m\u001b[0;34m(\u001b[0m\u001b[0mX\u001b[0m\u001b[0;34m)\u001b[0m\u001b[0;34m)\u001b[0m\u001b[0;34m\u001b[0m\u001b[0;34m\u001b[0m\u001b[0m\n\u001b[0m",
            "\u001b[0;31mNameError\u001b[0m: name 'X' is not defined"
          ]
        }
      ]
    },
    {
      "cell_type": "code",
      "source": [],
      "metadata": {
        "id": "JQ88F3Ze9vdN"
      },
      "execution_count": null,
      "outputs": []
    }
  ]
}